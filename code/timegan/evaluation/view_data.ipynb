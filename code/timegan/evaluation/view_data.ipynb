{
 "cells": [
  {
   "cell_type": "code",
   "execution_count": 20,
   "metadata": {},
   "outputs": [],
   "source": [
    "import pandas as pd"
   ]
  },
  {
   "cell_type": "code",
   "execution_count": 21,
   "metadata": {},
   "outputs": [],
   "source": [
    "df20_dash = pd.read_csv(\"../../../datasets/dash_20ms.csv\", sep = ';')"
   ]
  },
  {
   "cell_type": "code",
   "execution_count": 22,
   "metadata": {},
   "outputs": [
    {
     "data": {
      "text/html": [
       "<div>\n",
       "<style scoped>\n",
       "    .dataframe tbody tr th:only-of-type {\n",
       "        vertical-align: middle;\n",
       "    }\n",
       "\n",
       "    .dataframe tbody tr th {\n",
       "        vertical-align: top;\n",
       "    }\n",
       "\n",
       "    .dataframe thead th {\n",
       "        text-align: right;\n",
       "    }\n",
       "</style>\n",
       "<table border=\"1\" class=\"dataframe\">\n",
       "  <thead>\n",
       "    <tr style=\"text-align: right;\">\n",
       "      <th></th>\n",
       "      <th>timestamp</th>\n",
       "      <th>Buffer</th>\n",
       "      <th>FPS</th>\n",
       "      <th>ReportedBitrate</th>\n",
       "      <th>Resolution</th>\n",
       "      <th>CalcBitrate</th>\n",
       "    </tr>\n",
       "  </thead>\n",
       "  <tbody>\n",
       "    <tr>\n",
       "      <th>0</th>\n",
       "      <td>1699622405180</td>\n",
       "      <td>3.986</td>\n",
       "      <td>30</td>\n",
       "      <td>3312</td>\n",
       "      <td>1280x720</td>\n",
       "      <td>66</td>\n",
       "    </tr>\n",
       "    <tr>\n",
       "      <th>1</th>\n",
       "      <td>1699622406179</td>\n",
       "      <td>3.254</td>\n",
       "      <td>30</td>\n",
       "      <td>3312</td>\n",
       "      <td>1280x720</td>\n",
       "      <td>411</td>\n",
       "    </tr>\n",
       "    <tr>\n",
       "      <th>2</th>\n",
       "      <td>1699622407179</td>\n",
       "      <td>6.330</td>\n",
       "      <td>30</td>\n",
       "      <td>3312</td>\n",
       "      <td>1280x720</td>\n",
       "      <td>1061</td>\n",
       "    </tr>\n",
       "    <tr>\n",
       "      <th>3</th>\n",
       "      <td>1699622408184</td>\n",
       "      <td>13.130</td>\n",
       "      <td>30</td>\n",
       "      <td>3312</td>\n",
       "      <td>1280x720</td>\n",
       "      <td>1713</td>\n",
       "    </tr>\n",
       "    <tr>\n",
       "      <th>4</th>\n",
       "      <td>1699622409179</td>\n",
       "      <td>16.197</td>\n",
       "      <td>30</td>\n",
       "      <td>3312</td>\n",
       "      <td>1280x720</td>\n",
       "      <td>2337</td>\n",
       "    </tr>\n",
       "    <tr>\n",
       "      <th>...</th>\n",
       "      <td>...</td>\n",
       "      <td>...</td>\n",
       "      <td>...</td>\n",
       "      <td>...</td>\n",
       "      <td>...</td>\n",
       "      <td>...</td>\n",
       "    </tr>\n",
       "    <tr>\n",
       "      <th>3595</th>\n",
       "      <td>1699626000188</td>\n",
       "      <td>7.580</td>\n",
       "      <td>18</td>\n",
       "      <td>639</td>\n",
       "      <td>426x240</td>\n",
       "      <td>820235</td>\n",
       "    </tr>\n",
       "    <tr>\n",
       "      <th>3596</th>\n",
       "      <td>1699626001186</td>\n",
       "      <td>6.493</td>\n",
       "      <td>18</td>\n",
       "      <td>639</td>\n",
       "      <td>426x240</td>\n",
       "      <td>820368</td>\n",
       "    </tr>\n",
       "    <tr>\n",
       "      <th>3597</th>\n",
       "      <td>1699626002189</td>\n",
       "      <td>9.428</td>\n",
       "      <td>18</td>\n",
       "      <td>639</td>\n",
       "      <td>426x240</td>\n",
       "      <td>820492</td>\n",
       "    </tr>\n",
       "    <tr>\n",
       "      <th>3598</th>\n",
       "      <td>1699626003186</td>\n",
       "      <td>8.363</td>\n",
       "      <td>18</td>\n",
       "      <td>639</td>\n",
       "      <td>426x240</td>\n",
       "      <td>820630</td>\n",
       "    </tr>\n",
       "    <tr>\n",
       "      <th>3599</th>\n",
       "      <td>1699626004186</td>\n",
       "      <td>7.562</td>\n",
       "      <td>18</td>\n",
       "      <td>639</td>\n",
       "      <td>426x240</td>\n",
       "      <td>820757</td>\n",
       "    </tr>\n",
       "  </tbody>\n",
       "</table>\n",
       "<p>3600 rows × 6 columns</p>\n",
       "</div>"
      ],
      "text/plain": [
       "          timestamp  Buffer  FPS  ReportedBitrate Resolution  CalcBitrate\n",
       "0     1699622405180   3.986   30             3312   1280x720           66\n",
       "1     1699622406179   3.254   30             3312   1280x720          411\n",
       "2     1699622407179   6.330   30             3312   1280x720         1061\n",
       "3     1699622408184  13.130   30             3312   1280x720         1713\n",
       "4     1699622409179  16.197   30             3312   1280x720         2337\n",
       "...             ...     ...  ...              ...        ...          ...\n",
       "3595  1699626000188   7.580   18              639    426x240       820235\n",
       "3596  1699626001186   6.493   18              639    426x240       820368\n",
       "3597  1699626002189   9.428   18              639    426x240       820492\n",
       "3598  1699626003186   8.363   18              639    426x240       820630\n",
       "3599  1699626004186   7.562   18              639    426x240       820757\n",
       "\n",
       "[3600 rows x 6 columns]"
      ]
     },
     "execution_count": 22,
     "metadata": {},
     "output_type": "execute_result"
    }
   ],
   "source": [
    "df20_dash"
   ]
  },
  {
   "cell_type": "code",
   "execution_count": 23,
   "metadata": {},
   "outputs": [
    {
     "data": {
      "text/plain": [
       "0       1699622405180\n",
       "1       1699622406179\n",
       "2       1699622407179\n",
       "3       1699622408184\n",
       "4       1699622409179\n",
       "            ...      \n",
       "3595    1699626000188\n",
       "3596    1699626001186\n",
       "3597    1699626002189\n",
       "3598    1699626003186\n",
       "3599    1699626004186\n",
       "Name: timestamp, Length: 3600, dtype: int64"
      ]
     },
     "execution_count": 23,
     "metadata": {},
     "output_type": "execute_result"
    }
   ],
   "source": [
    "df20_dash['timestamp'].astype(int)\n"
   ]
  }
 ],
 "metadata": {
  "kernelspec": {
   "display_name": "ydata",
   "language": "python",
   "name": "python3"
  },
  "language_info": {
   "codemirror_mode": {
    "name": "ipython",
    "version": 3
   },
   "file_extension": ".py",
   "mimetype": "text/x-python",
   "name": "python",
   "nbconvert_exporter": "python",
   "pygments_lexer": "ipython3",
   "version": "3.9.16"
  }
 },
 "nbformat": 4,
 "nbformat_minor": 2
}
